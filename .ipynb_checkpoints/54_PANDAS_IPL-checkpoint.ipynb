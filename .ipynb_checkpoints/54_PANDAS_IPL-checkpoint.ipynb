{
 "cells": [
  {
   "cell_type": "code",
   "execution_count": null,
   "id": "10351347",
   "metadata": {},
   "outputs": [],
   "source": []
  },
  {
   "cell_type": "code",
   "execution_count": 1,
   "id": "3b304459",
   "metadata": {},
   "outputs": [],
   "source": [
    "# importing imp modules\n",
    "import numpy as np\n",
    "import pandas as pd"
   ]
  },
  {
   "cell_type": "markdown",
   "id": "9df52cf5",
   "metadata": {},
   "source": [
    "# importing the data and saving the dataframes in a variable"
   ]
  },
  {
   "cell_type": "code",
   "execution_count": null,
   "id": "5b81fdce",
   "metadata": {},
   "outputs": [],
   "source": []
  },
  {
   "cell_type": "code",
   "execution_count": null,
   "id": "662fc7bb",
   "metadata": {},
   "outputs": [],
   "source": []
  },
  {
   "cell_type": "code",
   "execution_count": 2,
   "id": "af26065c",
   "metadata": {},
   "outputs": [],
   "source": [
    "data = pd.read_csv('matches.csv')"
   ]
  },
  {
   "cell_type": "markdown",
   "id": "8a9f9237",
   "metadata": {},
   "source": [
    "# understanding the fields in dataframes"
   ]
  },
  {
   "cell_type": "code",
   "execution_count": 3,
   "id": "0b391999",
   "metadata": {},
   "outputs": [],
   "source": [
    "# basic attributes and functions"
   ]
  },
  {
   "cell_type": "code",
   "execution_count": null,
   "id": "7a84e933",
   "metadata": {},
   "outputs": [],
   "source": []
  },
  {
   "cell_type": "code",
   "execution_count": null,
   "id": "4270938c",
   "metadata": {},
   "outputs": [],
   "source": []
  },
  {
   "cell_type": "code",
   "execution_count": null,
   "id": "ab0ad3e8",
   "metadata": {},
   "outputs": [],
   "source": []
  },
  {
   "cell_type": "markdown",
   "id": "4470d030",
   "metadata": {},
   "source": [
    "# getting rows and columns"
   ]
  },
  {
   "cell_type": "code",
   "execution_count": null,
   "id": "938a131d",
   "metadata": {},
   "outputs": [],
   "source": []
  },
  {
   "cell_type": "code",
   "execution_count": null,
   "id": "24a82459",
   "metadata": {},
   "outputs": [],
   "source": []
  },
  {
   "cell_type": "code",
   "execution_count": null,
   "id": "1315ca56",
   "metadata": {},
   "outputs": [],
   "source": []
  },
  {
   "cell_type": "code",
   "execution_count": null,
   "id": "c35d1e4a",
   "metadata": {},
   "outputs": [],
   "source": []
  },
  {
   "cell_type": "markdown",
   "id": "0f75a8e7",
   "metadata": {},
   "source": [
    "# data filtering using fancy indexing"
   ]
  },
  {
   "cell_type": "code",
   "execution_count": 4,
   "id": "92777da6",
   "metadata": {},
   "outputs": [],
   "source": [
    "# matches only in hyderabad\n"
   ]
  },
  {
   "cell_type": "code",
   "execution_count": null,
   "id": "72db0419",
   "metadata": {},
   "outputs": [],
   "source": []
  },
  {
   "cell_type": "code",
   "execution_count": 5,
   "id": "a06bf7aa",
   "metadata": {},
   "outputs": [],
   "source": [
    "# creating a functio to filter thhe data by city as an argumnet\n",
    "    "
   ]
  },
  {
   "cell_type": "code",
   "execution_count": null,
   "id": "df63a2b1",
   "metadata": {},
   "outputs": [],
   "source": []
  },
  {
   "cell_type": "code",
   "execution_count": null,
   "id": "0aa00bb0",
   "metadata": {},
   "outputs": [],
   "source": []
  },
  {
   "cell_type": "code",
   "execution_count": null,
   "id": "364dc3e9",
   "metadata": {},
   "outputs": [],
   "source": []
  },
  {
   "cell_type": "code",
   "execution_count": 6,
   "id": "5f6ea3e5",
   "metadata": {},
   "outputs": [],
   "source": [
    "# adding more conditions"
   ]
  },
  {
   "cell_type": "code",
   "execution_count": null,
   "id": "18a6c62f",
   "metadata": {},
   "outputs": [],
   "source": []
  },
  {
   "cell_type": "code",
   "execution_count": null,
   "id": "eecc0769",
   "metadata": {},
   "outputs": [],
   "source": []
  },
  {
   "cell_type": "code",
   "execution_count": null,
   "id": "d74b57fb",
   "metadata": {},
   "outputs": [],
   "source": []
  },
  {
   "cell_type": "markdown",
   "id": "b3dbaf5c",
   "metadata": {},
   "source": [
    "# value counts\n",
    "# freq counts over a categorical data"
   ]
  },
  {
   "cell_type": "code",
   "execution_count": null,
   "id": "73467e56",
   "metadata": {},
   "outputs": [],
   "source": []
  },
  {
   "cell_type": "code",
   "execution_count": null,
   "id": "446f3c2b",
   "metadata": {},
   "outputs": [],
   "source": []
  },
  {
   "cell_type": "code",
   "execution_count": null,
   "id": "65e18dc0",
   "metadata": {},
   "outputs": [],
   "source": []
  },
  {
   "cell_type": "markdown",
   "id": "932761c2",
   "metadata": {},
   "source": [
    "# plotting the data in a chart"
   ]
  },
  {
   "cell_type": "code",
   "execution_count": 7,
   "id": "395d044b",
   "metadata": {},
   "outputs": [],
   "source": [
    "# plotting for better understanding\n",
    "import matplotlib.pyplot as plt"
   ]
  },
  {
   "cell_type": "code",
   "execution_count": null,
   "id": "ff5f72f4",
   "metadata": {},
   "outputs": [],
   "source": []
  },
  {
   "cell_type": "code",
   "execution_count": null,
   "id": "92f40d6b",
   "metadata": {},
   "outputs": [],
   "source": []
  },
  {
   "cell_type": "code",
   "execution_count": 8,
   "id": "074b1baf",
   "metadata": {},
   "outputs": [],
   "source": [
    "# finding total no of matches played by each team"
   ]
  },
  {
   "cell_type": "code",
   "execution_count": null,
   "id": "cada4e3b",
   "metadata": {},
   "outputs": [],
   "source": []
  },
  {
   "cell_type": "code",
   "execution_count": null,
   "id": "dc9d2a6a",
   "metadata": {},
   "outputs": [],
   "source": []
  },
  {
   "cell_type": "markdown",
   "id": "c4279945",
   "metadata": {},
   "source": [
    "# sorting data in a series or dataframes"
   ]
  },
  {
   "cell_type": "code",
   "execution_count": null,
   "id": "16a5b7d8",
   "metadata": {},
   "outputs": [],
   "source": []
  },
  {
   "cell_type": "code",
   "execution_count": 9,
   "id": "3ddbb858",
   "metadata": {},
   "outputs": [],
   "source": [
    "# based on city\n"
   ]
  },
  {
   "cell_type": "code",
   "execution_count": null,
   "id": "532e7245",
   "metadata": {},
   "outputs": [],
   "source": []
  },
  {
   "cell_type": "code",
   "execution_count": null,
   "id": "f51f56d1",
   "metadata": {},
   "outputs": [],
   "source": []
  },
  {
   "cell_type": "code",
   "execution_count": 10,
   "id": "a1755f34",
   "metadata": {},
   "outputs": [],
   "source": [
    "# sorting by two parameters\n"
   ]
  },
  {
   "cell_type": "code",
   "execution_count": null,
   "id": "8ad0990e",
   "metadata": {},
   "outputs": [],
   "source": []
  },
  {
   "cell_type": "code",
   "execution_count": null,
   "id": "a886408c",
   "metadata": {},
   "outputs": [],
   "source": []
  },
  {
   "cell_type": "code",
   "execution_count": null,
   "id": "98517fe6",
   "metadata": {},
   "outputs": [],
   "source": []
  },
  {
   "cell_type": "markdown",
   "id": "18553dab",
   "metadata": {},
   "source": [
    "# drop_duplicates"
   ]
  },
  {
   "cell_type": "code",
   "execution_count": 11,
   "id": "e90662e7",
   "metadata": {},
   "outputs": [],
   "source": [
    "# dropping te duplicate values\n"
   ]
  },
  {
   "cell_type": "code",
   "execution_count": null,
   "id": "069303ff",
   "metadata": {},
   "outputs": [],
   "source": []
  },
  {
   "cell_type": "code",
   "execution_count": null,
   "id": "5cf81d4b",
   "metadata": {},
   "outputs": [],
   "source": []
  },
  {
   "cell_type": "code",
   "execution_count": null,
   "id": "0184c0f3",
   "metadata": {},
   "outputs": [],
   "source": []
  },
  {
   "cell_type": "code",
   "execution_count": 12,
   "id": "56fe644f",
   "metadata": {},
   "outputs": [],
   "source": [
    "# with two values\n"
   ]
  },
  {
   "cell_type": "code",
   "execution_count": null,
   "id": "1d2aa904",
   "metadata": {},
   "outputs": [],
   "source": []
  },
  {
   "cell_type": "code",
   "execution_count": null,
   "id": "16a8de58",
   "metadata": {},
   "outputs": [],
   "source": []
  },
  {
   "cell_type": "code",
   "execution_count": null,
   "id": "e1900f28",
   "metadata": {},
   "outputs": [],
   "source": []
  },
  {
   "cell_type": "code",
   "execution_count": 13,
   "id": "e4c35dd1",
   "metadata": {},
   "outputs": [],
   "source": [
    "# findin the IPL winner of every season"
   ]
  },
  {
   "cell_type": "code",
   "execution_count": null,
   "id": "23bece53",
   "metadata": {},
   "outputs": [],
   "source": []
  }
 ],
 "metadata": {
  "kernelspec": {
   "display_name": "Python 3 (ipykernel)",
   "language": "python",
   "name": "python3"
  },
  "language_info": {
   "codemirror_mode": {
    "name": "ipython",
    "version": 3
   },
   "file_extension": ".py",
   "mimetype": "text/x-python",
   "name": "python",
   "nbconvert_exporter": "python",
   "pygments_lexer": "ipython3",
   "version": "3.9.13"
  }
 },
 "nbformat": 4,
 "nbformat_minor": 5
}
